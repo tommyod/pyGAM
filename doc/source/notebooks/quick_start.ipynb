{
 "cells": [
  {
   "cell_type": "markdown",
   "metadata": {},
   "source": [
    "# Quick Start\n",
    "\n",
    "This quick start will show how to do the following:\n",
    "\n",
    "- `Install` everything needed to use pyGAM.\n",
    "- `fit a regression model` with custom terms\n",
    "- search for the `best smoothing parameters`\n",
    "- plot `partial dependence` functions\n",
    "\n",
    "\n",
    "## Install pyGAM\n",
    "#### Pip\n",
    "\n",
    "    pip install pygam\n",
    "\n",
    "\n",
    "#### Conda\n",
    "pyGAM is on conda-forge, however this is typically less up-to-date:\n",
    "\n",
    "    conda install -c conda-forge pygam\n",
    "    \n",
    "\n",
    "#### Bleeding edge\n",
    "You can install the bleeding edge from github using `flit`.\n",
    "First clone the repo, ``cd`` into the main directory and do:\n",
    "\n",
    "    pip install flit\n",
    "    flit install"
   ]
  },
  {
   "cell_type": "markdown",
   "metadata": {},
   "source": [
    "#### Get `pandas` and `matplotlib`\n",
    "\n",
    "    pip install pandas matplotlib\n",
    "\n"
   ]
  },
  {
   "cell_type": "markdown",
   "metadata": {},
   "source": [
    "## Fit a Model\n",
    "\n",
    "Let's get to it. First we need some data:"
   ]
  },
  {
   "cell_type": "code",
   "execution_count": 1,
   "metadata": {},
   "outputs": [],
   "source": [
    "from pygam.datasets import wage\n",
    "\n",
    "X, y = wage()"
   ]
  },
  {
   "cell_type": "markdown",
   "metadata": {},
   "source": [
    "Now let's import a GAM that's made for regression problems.\n",
    "\n",
    "Let's fit a spline term to the first 2 features, and a factor term to the 3rd feature."
   ]
  },
  {
   "cell_type": "code",
   "execution_count": 2,
   "metadata": {},
   "outputs": [],
   "source": [
    "%load_ext autoreload\n",
    "%autoreload 2"
   ]
  },
  {
   "cell_type": "code",
   "execution_count": 3,
   "metadata": {},
   "outputs": [
    {
     "name": "stdout",
     "output_type": "stream",
     "text": [
      "Iteration: 1\n",
      "Iteration: 2\n",
      "Breaking since: 1.7631561988322398e-17 < 0.0001\n"
     ]
    }
   ],
   "source": [
    "from pygam import LinearGAM, s, f\n",
    "\n",
    "gam = LinearGAM(s(0) + s(1) + f(2)).fit(X, y)"
   ]
  },
  {
   "cell_type": "markdown",
   "metadata": {},
   "source": [
    "Let's take a look at the model fit:"
   ]
  },
  {
   "cell_type": "code",
   "execution_count": 4,
   "metadata": {},
   "outputs": [
    {
     "name": "stdout",
     "output_type": "stream",
     "text": [
      "LinearGAM                                                                                                 \n",
      "=============================================== ==========================================================\n",
      "Distribution:                        NormalDist Effective DoF:                                     25.1911\n",
      "Link Function:                     IdentityLink Log Likelihood:                                -24118.6847\n",
      "Number of Samples:                         3000 AIC:                                            48289.7516\n",
      "                                                AICc:                                           48290.2307\n",
      "                                                GCV:                                             1255.6902\n",
      "                                                Scale:                                           1236.7251\n",
      "                                                Pseudo R-Squared:                                   0.2955\n",
      "==========================================================================================================\n",
      "Feature Function                  Lambda               Rank         EDoF         P > x        Sig. Code   \n",
      "================================= ==================== ============ ============ ============ ============\n",
      "s(0)                              [0.6]                20           7.1          5.95e-03     **          \n",
      "s(1)                              [0.6]                20           14.1         1.11e-16     ***         \n",
      "f(2)                              [0.6]                5            4.0          1.11e-16     ***         \n",
      "intercept                                              1            0.0          1.11e-16     ***         \n",
      "==========================================================================================================\n",
      "Significance codes:  0 '***' 0.001 '**' 0.01 '*' 0.05 '.' 0.1 ' ' 1\n",
      "\n",
      "WARNING: Fitting splines and a linear function to a feature introduces a model identifiability problem\n",
      "         which can cause p-values to appear significant when they are not.\n",
      "\n",
      "WARNING: p-values calculated in this manner behave correctly for un-penalized models or models with\n",
      "         known smoothing parameters, but when smoothing parameters have been estimated, the p-values\n",
      "         are typically lower than they should be, meaning that the tests reject the null too readily.\n"
     ]
    },
    {
     "name": "stderr",
     "output_type": "stream",
     "text": [
      "/tmp/ipykernel_121679/3358381670.py:1: UserWarning: KNOWN BUG: p-values computed in this summary are likely much smaller than they should be. \n",
      " \n",
      "Please do not make inferences based on these values! \n",
      "\n",
      "Collaborate on a solution, and stay up to date at: \n",
      "github.com/dswah/pyGAM/issues/163 \n",
      "\n",
      "  gam.summary()\n"
     ]
    }
   ],
   "source": [
    "gam.summary()"
   ]
  },
  {
   "cell_type": "markdown",
   "metadata": {},
   "source": [
    "Even though we have 3 terms with a total of `(20 + 20 + 5) = 45` free variables, the default smoothing penalty (`lam=0.6`) reduces the effective degrees of freedom to just ~25."
   ]
  },
  {
   "cell_type": "markdown",
   "metadata": {},
   "source": [
    "By default, the spline terms, `s(...)`, use 20 basis functions. This is a good starting point. The rule of thumb is to use a fairly large amount of flexibility, and then let the smoothing penalty regularize the model.\n",
    "\n",
    "However, we can always use our expert knowledge to add flexibility where it is needed, or remove basis functions, and make fitting easier:"
   ]
  },
  {
   "cell_type": "code",
   "execution_count": 5,
   "metadata": {},
   "outputs": [
    {
     "name": "stdout",
     "output_type": "stream",
     "text": [
      "Iteration: 1\n",
      "Iteration: 2\n",
      "Breaking since: 1.4767744337842676e-17 < 0.0001\n"
     ]
    }
   ],
   "source": [
    "gam = LinearGAM(s(0, n_splines=5) + s(1) + f(2)).fit(X, y)"
   ]
  },
  {
   "cell_type": "markdown",
   "metadata": {},
   "source": [
    "## Automatically tune the model"
   ]
  },
  {
   "cell_type": "markdown",
   "metadata": {},
   "source": [
    "By default, spline terms, `s()` have a penalty on their 2nd derivative, which encourages the functions to be smoother, while factor terms, `f()` and linear terms `l()`, have a l2, ie ridge penalty, which encourages them to take on smaller values.\n",
    "\n",
    "`lam`, short for $\\lambda$, controls the strength of the regularization penalty on each term. Terms can have multiple penalties, and therefore multiple `lam`."
   ]
  },
  {
   "cell_type": "code",
   "execution_count": 6,
   "metadata": {},
   "outputs": [
    {
     "name": "stdout",
     "output_type": "stream",
     "text": [
      "[[0.6], [0.6], [0.6]]\n"
     ]
    }
   ],
   "source": [
    "print(gam.lam)"
   ]
  },
  {
   "cell_type": "markdown",
   "metadata": {},
   "source": [
    "Our model has 3 `lam` parameters, currently just one per term.\n",
    "\n",
    "Let's perform a grid-search over multiple `lam` values to see if we can improve our model.  \n",
    "We will seek the model with the lowest generalized cross-validation (GCV) score.\n",
    "\n",
    "Our search space is 3-dimensional, so we have to be conservative with the number of points we consider per dimension.\n",
    "\n",
    "Let's try 5 values for each smoothing parameter, resulting in a total of `5*5*5 = 125` points in our grid."
   ]
  },
  {
   "cell_type": "code",
   "execution_count": 7,
   "metadata": {},
   "outputs": [
    {
     "name": "stderr",
     "output_type": "stream",
     "text": [
      "\r",
      "  0% (0 of 125) |                        | Elapsed Time: 0:00:00 ETA:  --:--:--"
     ]
    },
    {
     "name": "stdout",
     "output_type": "stream",
     "text": [
      "Iteration: 1\n",
      "Iteration: 2\n",
      "Breaking since: 0.0 < 0.0001\n",
      "Iteration: 1\n",
      "Iteration: 2\n",
      "Breaking since: 0.0 < 0.0001\n"
     ]
    },
    {
     "name": "stderr",
     "output_type": "stream",
     "text": [
      "\r",
      "  1% (2 of 125) |                        | Elapsed Time: 0:00:00 ETA:   0:00:09"
     ]
    },
    {
     "name": "stdout",
     "output_type": "stream",
     "text": [
      "Iteration: 1\n",
      "Iteration: 2\n",
      "Breaking since: 6.5565299978908006e-18 < 0.0001\n",
      "Iteration: 1\n"
     ]
    },
    {
     "name": "stderr",
     "output_type": "stream",
     "text": [
      "\r",
      "  3% (4 of 125) |                        | Elapsed Time: 0:00:00 ETA:   0:00:08"
     ]
    },
    {
     "name": "stdout",
     "output_type": "stream",
     "text": [
      "Iteration: 2\n",
      "Breaking since: 3.1285017122269476e-17 < 0.0001\n"
     ]
    },
    {
     "name": "stderr",
     "output_type": "stream",
     "text": [
      "\r",
      "  4% (5 of 125) |                        | Elapsed Time: 0:00:00 ETA:   0:00:08"
     ]
    },
    {
     "name": "stdout",
     "output_type": "stream",
     "text": [
      "Iteration: 1\n",
      "Iteration: 2\n",
      "Breaking since: 7.567309650963965e-18 < 0.0001\n",
      "Iteration: 1\n",
      "Iteration: 2\n",
      "Breaking since: 1.2314606008806462e-16 < 0.0001\n",
      "Iteration: 1\n",
      "Iteration: 2\n",
      "Breaking since: 3.37123001561635e-17 < 0.0001\n"
     ]
    },
    {
     "name": "stderr",
     "output_type": "stream",
     "text": [
      "\r",
      "  5% (7 of 125) |#                       | Elapsed Time: 0:00:00 ETA:   0:00:07"
     ]
    },
    {
     "name": "stdout",
     "output_type": "stream",
     "text": [
      "Iteration: 1\n",
      "Iteration: 2\n",
      "Breaking since: 0.0 < 0.0001\n"
     ]
    },
    {
     "name": "stderr",
     "output_type": "stream",
     "text": [
      "\r",
      "  6% (8 of 125) |#                       | Elapsed Time: 0:00:00 ETA:   0:00:08"
     ]
    },
    {
     "name": "stdout",
     "output_type": "stream",
     "text": [
      "Iteration: 1\n",
      "Iteration: 2\n",
      "Breaking since: 5.4493967950134145e-17 < 0.0001\n",
      "Iteration: 1\n"
     ]
    },
    {
     "name": "stderr",
     "output_type": "stream",
     "text": [
      "\r",
      "  8% (10 of 125) |#                      | Elapsed Time: 0:00:00 ETA:   0:00:08"
     ]
    },
    {
     "name": "stdout",
     "output_type": "stream",
     "text": [
      "Iteration: 2\n",
      "Breaking since: 2.6511094952401466e-17 < 0.0001\n",
      "Iteration: 1\n",
      "Iteration: 2\n",
      "Breaking since: 0.0 < 0.0001\n"
     ]
    },
    {
     "name": "stderr",
     "output_type": "stream",
     "text": [
      "\r",
      "  9% (12 of 125) |##                     | Elapsed Time: 0:00:00 ETA:   0:00:08"
     ]
    },
    {
     "name": "stdout",
     "output_type": "stream",
     "text": [
      "Iteration: 1\n",
      "Iteration: 2\n",
      "Breaking since: 3.8097673440842076e-17 < 0.0001\n",
      "Iteration: 1\n"
     ]
    },
    {
     "name": "stderr",
     "output_type": "stream",
     "text": [
      "\r",
      " 10% (13 of 125) |##                     | Elapsed Time: 0:00:00 ETA:   0:00:08"
     ]
    },
    {
     "name": "stdout",
     "output_type": "stream",
     "text": [
      "Iteration: 2\n",
      "Breaking since: 2.800456959639469e-17 < 0.0001\n",
      "Iteration: 1\n",
      "Iteration: 2\n",
      "Breaking since: 2.6684481415418136e-17 < 0.0001\n",
      "Iteration: 1\n",
      "Iteration: 2\n"
     ]
    },
    {
     "name": "stderr",
     "output_type": "stream",
     "text": [
      "\r",
      " 12% (15 of 125) |##                     | Elapsed Time: 0:00:01 ETA:   0:00:08"
     ]
    },
    {
     "name": "stdout",
     "output_type": "stream",
     "text": [
      "Breaking since: 2.5896762019208673e-17 < 0.0001\n",
      "Iteration: 1\n",
      "Iteration: 2\n",
      "Breaking since: 6.995125487057686e-17 < 0.0001\n"
     ]
    },
    {
     "name": "stderr",
     "output_type": "stream",
     "text": [
      "\r",
      " 12% (16 of 125) |##                     | Elapsed Time: 0:00:01 ETA:   0:00:08"
     ]
    },
    {
     "name": "stdout",
     "output_type": "stream",
     "text": [
      "Iteration: 1\n",
      "Iteration: 2\n",
      "Breaking since: 1.2336380756793715e-17 < 0.0001\n",
      "Iteration: 1\n"
     ]
    },
    {
     "name": "stderr",
     "output_type": "stream",
     "text": [
      " 15% (19 of 125) |###                    | Elapsed Time: 0:00:01 ETA:   0:00:08"
     ]
    },
    {
     "name": "stdout",
     "output_type": "stream",
     "text": [
      "Iteration: 2\n",
      "Breaking since: 3.878867273922739e-17 < 0.0001\n",
      "Iteration: 1\n",
      "Iteration: 2\n",
      "Breaking since: 1.4411001974470754e-17 < 0.0001\n",
      "Iteration: 1\n",
      "Iteration: 2\n",
      "Breaking since: 5.527002290444769e-17 < 0.0001\n",
      "Iteration: 1\n"
     ]
    },
    {
     "name": "stderr",
     "output_type": "stream",
     "text": [
      "\r",
      " 16% (21 of 125) |###                    | Elapsed Time: 0:00:01 ETA:   0:00:07"
     ]
    },
    {
     "name": "stdout",
     "output_type": "stream",
     "text": [
      "Iteration: 2\n",
      "Breaking since: 2.783501499944495e-17 < 0.0001\n",
      "Iteration: 1\n",
      "Iteration: 2\n",
      "Breaking since: 2.7635043399219618e-17 < 0.0001\n"
     ]
    },
    {
     "name": "stderr",
     "output_type": "stream",
     "text": [
      "\r",
      " 18% (23 of 125) |####                   | Elapsed Time: 0:00:01 ETA:   0:00:07"
     ]
    },
    {
     "name": "stdout",
     "output_type": "stream",
     "text": [
      "Iteration: 1\n",
      "Iteration: 2\n",
      "Breaking since: 0.0 < 0.0001\n"
     ]
    },
    {
     "name": "stderr",
     "output_type": "stream",
     "text": [
      "\r",
      " 19% (24 of 125) |####                   | Elapsed Time: 0:00:01 ETA:   0:00:07"
     ]
    },
    {
     "name": "stdout",
     "output_type": "stream",
     "text": [
      "Iteration: 1\n",
      "Iteration: 2\n",
      "Breaking since: 0.0 < 0.0001\n",
      "Iteration: 1\n",
      "Iteration: 2\n",
      "Breaking since: 4.059273568800508e-17 < 0.0001\n"
     ]
    },
    {
     "name": "stderr",
     "output_type": "stream",
     "text": [
      "\r",
      " 20% (26 of 125) |####                   | Elapsed Time: 0:00:01 ETA:   0:00:07"
     ]
    },
    {
     "name": "stdout",
     "output_type": "stream",
     "text": [
      "Iteration: 1\n",
      "Iteration: 2\n",
      "Breaking since: 1.318929954665564e-17 < 0.0001\n"
     ]
    },
    {
     "name": "stderr",
     "output_type": "stream",
     "text": [
      "\r",
      " 21% (27 of 125) |####                   | Elapsed Time: 0:00:02 ETA:   0:00:07"
     ]
    },
    {
     "name": "stdout",
     "output_type": "stream",
     "text": [
      "Iteration: 1\n",
      "Iteration: 2\n",
      "Breaking since: 0.0 < 0.0001\n",
      "Iteration: 1\n",
      "Iteration: 2\n",
      "Breaking since: 9.312731989090582e-18 < 0.0001\n",
      "Iteration: 1\n",
      "Iteration: 2\n"
     ]
    },
    {
     "name": "stderr",
     "output_type": "stream",
     "text": [
      "\r",
      " 23% (29 of 125) |#####                  | Elapsed Time: 0:00:02 ETA:   0:00:07"
     ]
    },
    {
     "name": "stdout",
     "output_type": "stream",
     "text": [
      "Breaking since: 1.3701024754618925e-17 < 0.0001\n",
      "Iteration: 1\n",
      "Iteration: 2\n"
     ]
    },
    {
     "name": "stderr",
     "output_type": "stream",
     "text": [
      " 25% (32 of 125) |#####                  | Elapsed Time: 0:00:02 ETA:   0:00:06"
     ]
    },
    {
     "name": "stdout",
     "output_type": "stream",
     "text": [
      "Breaking since: 3.4801612226639616e-17 < 0.0001\n",
      "Iteration: 1\n",
      "Iteration: 2\n",
      "Breaking since: 7.798623726982076e-17 < 0.0001\n",
      "Iteration: 1\n",
      "Iteration: 2\n",
      "Breaking since: 0.0 < 0.0001\n",
      "Iteration: 1\n",
      "Iteration: 2\n"
     ]
    },
    {
     "name": "stderr",
     "output_type": "stream",
     "text": [
      " 28% (35 of 125) |######                 | Elapsed Time: 0:00:02 ETA:   0:00:06"
     ]
    },
    {
     "name": "stdout",
     "output_type": "stream",
     "text": [
      "Breaking since: 7.007042064760349e-18 < 0.0001\n",
      "Iteration: 1\n",
      "Iteration: 2\n",
      "Breaking since: 6.018577741686194e-17 < 0.0001\n",
      "Iteration: 1\n",
      "Iteration: 2\n",
      "Breaking since: 5.36095929216205e-17 < 0.0001\n",
      "Iteration: 1\n",
      "Iteration: 2\n",
      "Breaking since: 4.126667343999851e-17 < 0.0001\n",
      "Iteration: 1"
     ]
    },
    {
     "name": "stderr",
     "output_type": "stream",
     "text": [
      " 30% (38 of 125) |######                 | Elapsed Time: 0:00:02 ETA:   0:00:06"
     ]
    },
    {
     "name": "stdout",
     "output_type": "stream",
     "text": [
      "\n",
      "Iteration: 2\n",
      "Breaking since: 3.877263331764955e-17 < 0.0001\n",
      "Iteration: 1\n",
      "Iteration: 2\n",
      "Breaking since: 1.534389276400604e-17 < 0.0001\n",
      "Iteration: 1\n",
      "Iteration: 2\n",
      "Breaking since: 1.3541001531385128e-17 < 0.0001\n"
     ]
    },
    {
     "name": "stderr",
     "output_type": "stream",
     "text": [
      " 33% (42 of 125) |#######                | Elapsed Time: 0:00:02 ETA:   0:00:05"
     ]
    },
    {
     "name": "stdout",
     "output_type": "stream",
     "text": [
      "Iteration: 1\n",
      "Iteration: 2\n",
      "Breaking since: 2.6212776926441654e-17 < 0.0001\n",
      "Iteration: 1\n",
      "Iteration: 2\n",
      "Breaking since: 1.3913643575614696e-17 < 0.0001\n",
      "Iteration: 1\n",
      "Iteration: 2\n",
      "Breaking since: 0.0 < 0.0001\n"
     ]
    },
    {
     "name": "stderr",
     "output_type": "stream",
     "text": [
      " 36% (45 of 125) |########               | Elapsed Time: 0:00:03 ETA:   0:00:05"
     ]
    },
    {
     "name": "stdout",
     "output_type": "stream",
     "text": [
      "Iteration: 1\n",
      "Iteration: 2\n",
      "Breaking since: 0.0 < 0.0001\n",
      "Iteration: 1\n",
      "Iteration: 2\n",
      "Breaking since: 3.171848247410237e-17 < 0.0001\n",
      "Iteration: 1\n",
      "Iteration: 2\n",
      "Breaking since: 6.292755316754251e-17 < 0.0001\n",
      "Iteration: 1\n"
     ]
    },
    {
     "name": "stderr",
     "output_type": "stream",
     "text": [
      "\r",
      " 36% (46 of 125) |########               | Elapsed Time: 0:00:03 ETA:   0:00:05"
     ]
    },
    {
     "name": "stdout",
     "output_type": "stream",
     "text": [
      "Iteration: 2\n",
      "Breaking since: 1.281217172929675e-16 < 0.0001\n",
      "Iteration: 1\n",
      "Iteration: 2\n",
      "Breaking since: 3.108629829247723e-17 < 0.0001\n"
     ]
    },
    {
     "name": "stderr",
     "output_type": "stream",
     "text": [
      "\r",
      " 38% (48 of 125) |########               | Elapsed Time: 0:00:03 ETA:   0:00:05"
     ]
    },
    {
     "name": "stdout",
     "output_type": "stream",
     "text": [
      "Iteration: 1\n",
      "Iteration: 2\n",
      "Breaking since: 2.813654326480394e-17 < 0.0001\n",
      "Iteration: 1\n",
      "Iteration: 2\n",
      "Breaking since: 2.89591030328926e-17 < 0.0001\n",
      "Iteration: 1\n"
     ]
    },
    {
     "name": "stderr",
     "output_type": "stream",
     "text": [
      " 40% (51 of 125) |#########              | Elapsed Time: 0:00:03 ETA:   0:00:05"
     ]
    },
    {
     "name": "stdout",
     "output_type": "stream",
     "text": [
      "Iteration: 2\n",
      "Breaking since: 2.971253573971638e-17 < 0.0001\n",
      "Iteration: 1\n",
      "Iteration: 2\n",
      "Breaking since: 1.8631329320900253e-17 < 0.0001\n",
      "Iteration: 1\n"
     ]
    },
    {
     "name": "stderr",
     "output_type": "stream",
     "text": [
      " 43% (54 of 125) |#########              | Elapsed Time: 0:00:04 ETA:   0:00:05"
     ]
    },
    {
     "name": "stdout",
     "output_type": "stream",
     "text": [
      "Iteration: 2\n",
      "Breaking since: 2.1119699381643383e-16 < 0.0001\n",
      "Iteration: 1\n",
      "Iteration: 2\n",
      "Breaking since: 2.940981988995735e-17 < 0.0001\n",
      "Iteration: 1\n",
      "Iteration: 2\n",
      "Breaking since: 0.0 < 0.0001\n"
     ]
    },
    {
     "name": "stderr",
     "output_type": "stream",
     "text": [
      " 45% (57 of 125) |##########             | Elapsed Time: 0:00:04 ETA:   0:00:05"
     ]
    },
    {
     "name": "stdout",
     "output_type": "stream",
     "text": [
      "Iteration: 1\n",
      "Iteration: 2\n",
      "Breaking since: 3.386708138406007e-17 < 0.0001\n",
      "Iteration: 1\n",
      "Iteration: 2\n",
      "Breaking since: 1.4539843790004355e-17 < 0.0001\n",
      "Iteration: 1\n",
      "Iteration: 2\n",
      "Breaking since: 0.0 < 0.0001\n",
      "Iteration: 1\n",
      "Iteration: 2\n",
      "Breaking since: 1.668569442048252e-17 < 0.0001\n"
     ]
    },
    {
     "name": "stderr",
     "output_type": "stream",
     "text": [
      " 48% (61 of 125) |###########            | Elapsed Time: 0:00:04 ETA:   0:00:04"
     ]
    },
    {
     "name": "stdout",
     "output_type": "stream",
     "text": [
      "Iteration: 1\n",
      "Iteration: 2\n",
      "Breaking since: 4.298587245023001e-17 < 0.0001\n",
      "Iteration: 1\n",
      "Iteration: 2\n",
      "Breaking since: 5.537819320810636e-17 < 0.0001\n",
      "Iteration: 1\n",
      "Iteration: 2\n",
      "Breaking since: 1.6337374283991354e-17 < 0.0001\n",
      "Iteration: 1\n"
     ]
    },
    {
     "name": "stderr",
     "output_type": "stream",
     "text": [
      " 52% (65 of 125) |###########            | Elapsed Time: 0:00:04 ETA:   0:00:04"
     ]
    },
    {
     "name": "stdout",
     "output_type": "stream",
     "text": [
      "Iteration: 2\n",
      "Breaking since: 0.0 < 0.0001\n",
      "Iteration: 1\n",
      "Iteration: 2\n",
      "Breaking since: 3.192876918293442e-17 < 0.0001\n",
      "Iteration: 1\n",
      "Iteration: 2\n",
      "Breaking since: 2.1102495639024687e-17 < 0.0001\n",
      "Iteration: 1\n",
      "Iteration: 2\n",
      "Breaking since: 2.1178601788640197e-19 < 0.0001\n"
     ]
    },
    {
     "name": "stderr",
     "output_type": "stream",
     "text": [
      "\r",
      " 53% (67 of 125) |############           | Elapsed Time: 0:00:04 ETA:   0:00:04"
     ]
    },
    {
     "name": "stdout",
     "output_type": "stream",
     "text": [
      "Iteration: 1\n",
      "Iteration: 2\n",
      "Breaking since: 5.962657897115295e-17 < 0.0001\n",
      "Iteration: 1\n",
      "Iteration: 2\n",
      "Breaking since: 7.230947676343475e-18 < 0.0001\n",
      "Iteration: 1\n",
      "Iteration: 2\n",
      "Breaking since: 0.0 < 0.0001\n"
     ]
    },
    {
     "name": "stderr",
     "output_type": "stream",
     "text": [
      "\r",
      " 55% (69 of 125) |############           | Elapsed Time: 0:00:05 ETA:   0:00:04"
     ]
    },
    {
     "name": "stdout",
     "output_type": "stream",
     "text": [
      "Iteration: 1\n",
      "Iteration: 2\n",
      "Breaking since: 1.488261295074696e-17 < 0.0001\n",
      "Iteration: 1\n",
      "Iteration: 2\n",
      "Breaking since: 3.077636588884771e-17 < 0.0001\n"
     ]
    },
    {
     "name": "stderr",
     "output_type": "stream",
     "text": [
      " 56% (71 of 125) |#############          | Elapsed Time: 0:00:05 ETA:   0:00:04"
     ]
    },
    {
     "name": "stdout",
     "output_type": "stream",
     "text": [
      "Iteration: 1\n",
      "Iteration: 2\n",
      "Breaking since: 3.187703859524383e-17 < 0.0001\n",
      "Iteration: 1\n",
      "Iteration: 2\n",
      "Breaking since: 1.4694999056279278e-17 < 0.0001\n"
     ]
    },
    {
     "name": "stderr",
     "output_type": "stream",
     "text": [
      " 58% (73 of 125) |#############          | Elapsed Time: 0:00:05 ETA:   0:00:04"
     ]
    },
    {
     "name": "stdout",
     "output_type": "stream",
     "text": [
      "Iteration: 1\n",
      "Iteration: 2\n",
      "Breaking since: 0.0 < 0.0001\n",
      "Iteration: 1\n",
      "Iteration: 2\n",
      "Breaking since: 7.49709590155284e-18 < 0.0001\n",
      "Iteration: 1\n"
     ]
    },
    {
     "name": "stderr",
     "output_type": "stream",
     "text": [
      " 60% (76 of 125) |#############          | Elapsed Time: 0:00:05 ETA:   0:00:04"
     ]
    },
    {
     "name": "stdout",
     "output_type": "stream",
     "text": [
      "Iteration: 2\n",
      "Breaking since: 1.0479247344482341e-17 < 0.0001\n",
      "Iteration: 1\n",
      "Iteration: 2\n",
      "Breaking since: 1.0323537516208102e-16 < 0.0001\n",
      "Iteration: 1\n"
     ]
    },
    {
     "name": "stderr",
     "output_type": "stream",
     "text": [
      " 62% (78 of 125) |##############         | Elapsed Time: 0:00:06 ETA:   0:00:04"
     ]
    },
    {
     "name": "stdout",
     "output_type": "stream",
     "text": [
      "Iteration: 2\n",
      "Breaking since: 1.7970644856576595e-17 < 0.0001\n",
      "Iteration: 1\n",
      "Iteration: 2\n",
      "Breaking since: 2.0297068014426893e-16 < 0.0001\n"
     ]
    },
    {
     "name": "stderr",
     "output_type": "stream",
     "text": [
      " 64% (80 of 125) |##############         | Elapsed Time: 0:00:06 ETA:   0:00:04"
     ]
    },
    {
     "name": "stdout",
     "output_type": "stream",
     "text": [
      "Iteration: 1\n",
      "Iteration: 2\n",
      "Breaking since: 0.0 < 0.0001\n",
      "Iteration: 1\n",
      "Iteration: 2\n",
      "Breaking since: 0.0 < 0.0001\n"
     ]
    },
    {
     "name": "stderr",
     "output_type": "stream",
     "text": [
      " 65% (82 of 125) |###############        | Elapsed Time: 0:00:06 ETA:   0:00:04"
     ]
    },
    {
     "name": "stdout",
     "output_type": "stream",
     "text": [
      "Iteration: 1\n",
      "Iteration: 2\n",
      "Breaking since: 0.0 < 0.0001\n",
      "Iteration: 1\n",
      "Iteration: 2\n",
      "Breaking since: 0.0 < 0.0001\n"
     ]
    },
    {
     "name": "stderr",
     "output_type": "stream",
     "text": [
      " 67% (84 of 125) |###############        | Elapsed Time: 0:00:06 ETA:   0:00:04"
     ]
    },
    {
     "name": "stdout",
     "output_type": "stream",
     "text": [
      "Iteration: 1\n",
      "Iteration: 2\n",
      "Breaking since: 1.4939500107172726e-17 < 0.0001\n",
      "Iteration: 1\n",
      "Iteration: 2\n",
      "Breaking since: 0.0 < 0.0001\n",
      "Iteration: 1\n",
      "Iteration: 2\n",
      "Breaking since: 2.8438609648878625e-17 < 0.0001\n"
     ]
    },
    {
     "name": "stderr",
     "output_type": "stream",
     "text": [
      "\r",
      " 68% (86 of 125) |###############        | Elapsed Time: 0:00:07 ETA:   0:00:04"
     ]
    },
    {
     "name": "stdout",
     "output_type": "stream",
     "text": [
      "Iteration: 1\n",
      "Iteration: 2\n",
      "Breaking since: 4.962208300241158e-17 < 0.0001\n",
      "Iteration: 1\n",
      "Iteration: 2\n",
      "Breaking since: 0.0 < 0.0001\n",
      "Iteration: 1\n"
     ]
    },
    {
     "name": "stderr",
     "output_type": "stream",
     "text": [
      " 71% (89 of 125) |################       | Elapsed Time: 0:00:07 ETA:   0:00:04"
     ]
    },
    {
     "name": "stdout",
     "output_type": "stream",
     "text": [
      "Iteration: 2\n",
      "Breaking since: 0.0 < 0.0001\n",
      "Iteration: 1\n",
      "Iteration: 2\n",
      "Breaking since: 2.7989548857123706e-17 < 0.0001\n",
      "Iteration: 1\n",
      "Iteration: 2\n",
      "Breaking since: 3.017608047596752e-17 < 0.0001\n"
     ]
    },
    {
     "name": "stderr",
     "output_type": "stream",
     "text": [
      " 73% (92 of 125) |################       | Elapsed Time: 0:00:07 ETA:   0:00:03"
     ]
    },
    {
     "name": "stdout",
     "output_type": "stream",
     "text": [
      "Iteration: 1\n",
      "Iteration: 2\n",
      "Breaking since: 2.8992978458867787e-17 < 0.0001\n",
      "Iteration: 1\n",
      "Iteration: 2\n",
      "Breaking since: 0.0 < 0.0001\n",
      "Iteration: 1\n",
      "Iteration: 2\n",
      "Breaking since: 3.604280283432201e-18 < 0.0001\n",
      "Iteration: 1\n",
      "Iteration: 2\n",
      "Breaking since: 2.984644336388014e-17 < 0.0001\n"
     ]
    },
    {
     "name": "stderr",
     "output_type": "stream",
     "text": [
      " 76% (95 of 125) |#################      | Elapsed Time: 0:00:07 ETA:   0:00:02"
     ]
    },
    {
     "name": "stdout",
     "output_type": "stream",
     "text": [
      "Iteration: 1\n",
      "Iteration: 2\n",
      "Breaking since: 9.031087195959905e-19 < 0.0001\n",
      "Iteration: 1\n",
      "Iteration: 2\n",
      "Breaking since: 0.0 < 0.0001\n",
      "Iteration: 1\n",
      "Iteration: 2\n"
     ]
    },
    {
     "name": "stderr",
     "output_type": "stream",
     "text": [
      " 79% (99 of 125) |##################     | Elapsed Time: 0:00:08 ETA:   0:00:02"
     ]
    },
    {
     "name": "stdout",
     "output_type": "stream",
     "text": [
      "Breaking since: 1.4592880469190107e-17 < 0.0001\n",
      "Iteration: 1\n",
      "Iteration: 2\n",
      "Breaking since: 1.774558676816618e-18 < 0.0001\n",
      "Iteration: 1\n",
      "Iteration: 2\n",
      "Breaking since: 0.0 < 0.0001\n"
     ]
    },
    {
     "name": "stderr",
     "output_type": "stream",
     "text": [
      " 82% (103 of 125) |##################    | Elapsed Time: 0:00:08 ETA:   0:00:01"
     ]
    },
    {
     "name": "stdout",
     "output_type": "stream",
     "text": [
      "Iteration: 1\n",
      "Iteration: 2\n",
      "Breaking since: 2.945563468837862e-17 < 0.0001\n",
      "Iteration: 1\n",
      "Iteration: 2\n",
      "Breaking since: 2.8351077852284866e-17 < 0.0001\n",
      "Iteration: 1\n",
      "Iteration: 2\n",
      "Breaking since: 6.339378121726921e-18 < 0.0001\n",
      "Iteration: 1\n",
      "Iteration: 2\n",
      "Breaking since: 2.0448457559964577e-16 < 0.0001\n"
     ]
    },
    {
     "name": "stderr",
     "output_type": "stream",
     "text": [
      "\r",
      " 84% (105 of 125) |##################    | Elapsed Time: 0:00:08 ETA:   0:00:01"
     ]
    },
    {
     "name": "stdout",
     "output_type": "stream",
     "text": [
      "Iteration: 1\n",
      "Iteration: 2\n",
      "Breaking since: 1.0663298485142077e-16 < 0.0001\n",
      "Iteration: 1\n",
      "Iteration: 2\n",
      "Breaking since: 1.1723163426714002e-16 < 0.0001\n",
      "Iteration: 1\n",
      "Iteration: 2\n",
      "Breaking since: 2.6070780638745047e-17 < 0.0001\n",
      "Iteration: 1\n",
      "Iteration: 2\n"
     ]
    },
    {
     "name": "stderr",
     "output_type": "stream",
     "text": [
      " 88% (110 of 125) |###################   | Elapsed Time: 0:00:08 ETA:   0:00:01"
     ]
    },
    {
     "name": "stdout",
     "output_type": "stream",
     "text": [
      "Breaking since: 3.233738878026059e-17 < 0.0001\n",
      "Iteration: 1\n",
      "Iteration: 2\n",
      "Breaking since: 3.621678773722977e-18 < 0.0001\n",
      "Iteration: 1\n",
      "Iteration: 2\n",
      "Breaking since: 2.8538979234868366e-17 < 0.0001\n",
      "Iteration: 1\n",
      "Iteration: 2\n",
      "Breaking since: 0.0 < 0.0001\n",
      "Iteration: 1\n"
     ]
    },
    {
     "name": "stderr",
     "output_type": "stream",
     "text": [
      " 89% (112 of 125) |###################   | Elapsed Time: 0:00:08 ETA:   0:00:00"
     ]
    },
    {
     "name": "stdout",
     "output_type": "stream",
     "text": [
      "Iteration: 2\n",
      "Breaking since: 3.0060311926125516e-17 < 0.0001\n",
      "Iteration: 1\n",
      "Iteration: 2\n",
      "Breaking since: 0.0 < 0.0001\n"
     ]
    },
    {
     "name": "stderr",
     "output_type": "stream",
     "text": [
      " 91% (114 of 125) |####################  | Elapsed Time: 0:00:09 ETA:   0:00:00"
     ]
    },
    {
     "name": "stdout",
     "output_type": "stream",
     "text": [
      "Iteration: 1\n",
      "Iteration: 2\n",
      "Breaking since: 2.0065799403309506e-17 < 0.0001\n",
      "Iteration: 1\n",
      "Iteration: 2\n",
      "Breaking since: 0.0 < 0.0001\n"
     ]
    },
    {
     "name": "stderr",
     "output_type": "stream",
     "text": [
      " 92% (116 of 125) |####################  | Elapsed Time: 0:00:09 ETA:   0:00:00"
     ]
    },
    {
     "name": "stdout",
     "output_type": "stream",
     "text": [
      "Iteration: 1\n",
      "Iteration: 2\n",
      "Breaking since: 0.0 < 0.0001\n",
      "Iteration: 1\n",
      "Iteration: 2\n",
      "Breaking since: 8.037391487172783e-18 < 0.0001\n"
     ]
    },
    {
     "name": "stderr",
     "output_type": "stream",
     "text": [
      " 95% (119 of 125) |####################  | Elapsed Time: 0:00:09 ETA:   0:00:00"
     ]
    },
    {
     "name": "stdout",
     "output_type": "stream",
     "text": [
      "Iteration: 1\n",
      "Iteration: 2\n",
      "Breaking since: 0.0 < 0.0001\n",
      "Iteration: 1\n",
      "Iteration: 2\n",
      "Breaking since: 6.239812452819238e-18 < 0.0001\n",
      "Iteration: 1\n",
      "Iteration: 2\n",
      "Breaking since: 3.3099728142443124e-17 < 0.0001\n"
     ]
    },
    {
     "name": "stderr",
     "output_type": "stream",
     "text": [
      " 96% (121 of 125) |##################### | Elapsed Time: 0:00:09 ETA:   0:00:00"
     ]
    },
    {
     "name": "stdout",
     "output_type": "stream",
     "text": [
      "Iteration: 1\n",
      "Iteration: 2\n",
      "Breaking since: 0.0 < 0.0001\n",
      "Iteration: 1\n",
      "Iteration: 2\n",
      "Breaking since: 3.1636779299454324e-17 < 0.0001\n",
      "Iteration: 1\n",
      "Iteration: 2\n",
      "Breaking since: 1.7685980972705315e-18 < 0.0001\n"
     ]
    },
    {
     "name": "stderr",
     "output_type": "stream",
     "text": [
      "100% (125 of 125) |######################| Elapsed Time: 0:00:10 Time:  0:00:10\n"
     ]
    },
    {
     "name": "stdout",
     "output_type": "stream",
     "text": [
      "Iteration: 1\n",
      "Iteration: 2\n",
      "Breaking since: 0.0 < 0.0001\n",
      "Iteration: 1\n",
      "Iteration: 2\n",
      "Breaking since: 1.8455890473661936e-18 < 0.0001\n",
      "Iteration: 1\n",
      "Iteration: 2\n",
      "Breaking since: 0.0 < 0.0001\n",
      "LinearGAM                                                                                                 \n",
      "=============================================== ==========================================================\n",
      "Distribution:                        NormalDist Effective DoF:                                      9.2948\n",
      "Link Function:                     IdentityLink Log Likelihood:                                -24119.7277\n",
      "Number of Samples:                         3000 AIC:                                            48260.0451\n",
      "                                                AICc:                                           48260.1229\n",
      "                                                GCV:                                              1244.089\n",
      "                                                Scale:                                           1237.1528\n",
      "                                                Pseudo R-Squared:                                   0.2915\n",
      "==========================================================================================================\n",
      "Feature Function                  Lambda               Rank         EDoF         P > x        Sig. Code   \n",
      "================================= ==================== ============ ============ ============ ============\n",
      "s(0)                              [100000.]            5            2.0          7.54e-03     **          \n",
      "s(1)                              [1000.]              20           3.3          1.11e-16     ***         \n",
      "f(2)                              [0.1]                5            4.0          1.11e-16     ***         \n",
      "intercept                                              1            0.0          1.11e-16     ***         \n",
      "==========================================================================================================\n",
      "Significance codes:  0 '***' 0.001 '**' 0.01 '*' 0.05 '.' 0.1 ' ' 1\n",
      "\n",
      "WARNING: Fitting splines and a linear function to a feature introduces a model identifiability problem\n",
      "         which can cause p-values to appear significant when they are not.\n",
      "\n",
      "WARNING: p-values calculated in this manner behave correctly for un-penalized models or models with\n",
      "         known smoothing parameters, but when smoothing parameters have been estimated, the p-values\n",
      "         are typically lower than they should be, meaning that the tests reject the null too readily.\n"
     ]
    },
    {
     "name": "stderr",
     "output_type": "stream",
     "text": [
      "/tmp/ipykernel_121679/1373151110.py:7: UserWarning: KNOWN BUG: p-values computed in this summary are likely much smaller than they should be. \n",
      " \n",
      "Please do not make inferences based on these values! \n",
      "\n",
      "Collaborate on a solution, and stay up to date at: \n",
      "github.com/dswah/pyGAM/issues/163 \n",
      "\n",
      "  gam.summary()\n"
     ]
    }
   ],
   "source": [
    "import numpy as np\n",
    "\n",
    "lam = np.logspace(-3, 5, 5)\n",
    "lams = [lam] * 3\n",
    "\n",
    "gam.gridsearch(X, y, lam=lams)\n",
    "gam.summary()"
   ]
  },
  {
   "cell_type": "markdown",
   "metadata": {},
   "source": [
    "This is quite a bit better. Even though the in-sample $R^2$ value is lower, we can expect our model to generalize better because the GCV error is lower.\n",
    "\n",
    "We could be more rigorous by using a train/test split, and checking our model's error on the test set. We were also quite lazy and only tried 125 values in our hyperopt. We might find a better model if we spent more time searching across more points."
   ]
  },
  {
   "cell_type": "markdown",
   "metadata": {},
   "source": [
    "For high-dimensional search-spaces, it is sometimes a good idea to try a **randomized search**.  \n",
    "We can acheive this by using numpy's `random` module:"
   ]
  },
  {
   "cell_type": "code",
   "execution_count": 8,
   "metadata": {},
   "outputs": [],
   "source": [
    "lams = np.random.rand(100, 3) # random points on [0, 1], with shape (100, 3)\n",
    "lams = lams * 6 - 3 # shift values to -3, 3\n",
    "lams = 10 ** lams # transforms values to 1e-3, 1e3"
   ]
  },
  {
   "cell_type": "code",
   "execution_count": 9,
   "metadata": {},
   "outputs": [
    {
     "name": "stderr",
     "output_type": "stream",
     "text": [
      "  2% (2 of 100) |                        | Elapsed Time: 0:00:00 ETA:   0:00:10"
     ]
    },
    {
     "name": "stdout",
     "output_type": "stream",
     "text": [
      "Iteration: 1\n",
      "Iteration: 2\n",
      "Breaking since: 5.5474970703910894e-17 < 0.0001\n",
      "Iteration: 1\n",
      "Iteration: 2\n",
      "Breaking since: 5.551606436006497e-17 < 0.0001\n"
     ]
    },
    {
     "name": "stderr",
     "output_type": "stream",
     "text": [
      "  4% (4 of 100) |                        | Elapsed Time: 0:00:00 ETA:   0:00:09"
     ]
    },
    {
     "name": "stdout",
     "output_type": "stream",
     "text": [
      "Iteration: 1\n",
      "Iteration: 2\n",
      "Breaking since: 6.933103680080213e-18 < 0.0001\n",
      "Iteration: 1\n",
      "Iteration: 2\n",
      "Breaking since: 7.75596338647926e-18 < 0.0001\n"
     ]
    },
    {
     "name": "stderr",
     "output_type": "stream",
     "text": [
      "  6% (6 of 100) |#                       | Elapsed Time: 0:00:00 ETA:   0:00:09"
     ]
    },
    {
     "name": "stdout",
     "output_type": "stream",
     "text": [
      "Iteration: 1\n",
      "Iteration: 2\n",
      "Breaking since: 0.0 < 0.0001\n",
      "Iteration: 1\n",
      "Iteration: 2\n",
      "Breaking since: 3.973908387712751e-17 < 0.0001\n"
     ]
    },
    {
     "name": "stderr",
     "output_type": "stream",
     "text": [
      "  8% (8 of 100) |#                       | Elapsed Time: 0:00:00 ETA:   0:00:10"
     ]
    },
    {
     "name": "stdout",
     "output_type": "stream",
     "text": [
      "Iteration: 1\n",
      "Iteration: 2\n",
      "Breaking since: 3.08270782459423e-17 < 0.0001\n",
      "Iteration: 1\n",
      "Iteration: 2\n",
      "Breaking since: 7.09978407696277e-18 < 0.0001\n"
     ]
    },
    {
     "name": "stderr",
     "output_type": "stream",
     "text": [
      "\r",
      "  9% (9 of 100) |##                      | Elapsed Time: 0:00:01 ETA:   0:00:10"
     ]
    },
    {
     "name": "stdout",
     "output_type": "stream",
     "text": [
      "Iteration: 1\n",
      "Iteration: 2\n",
      "Breaking since: 0.0 < 0.0001\n",
      "Iteration: 1\n"
     ]
    },
    {
     "name": "stderr",
     "output_type": "stream",
     "text": [
      " 11% (11 of 100) |##                     | Elapsed Time: 0:00:01 ETA:   0:00:10"
     ]
    },
    {
     "name": "stdout",
     "output_type": "stream",
     "text": [
      "Iteration: 2\n",
      "Breaking since: 1.3801546487619165e-17 < 0.0001\n",
      "Iteration: 1\n",
      "Iteration: 2\n",
      "Breaking since: 0.0 < 0.0001\n",
      "Iteration: 1\n"
     ]
    },
    {
     "name": "stderr",
     "output_type": "stream",
     "text": [
      " 13% (13 of 100) |##                     | Elapsed Time: 0:00:01 ETA:   0:00:09"
     ]
    },
    {
     "name": "stdout",
     "output_type": "stream",
     "text": [
      "Iteration: 2\n",
      "Breaking since: 0.0 < 0.0001\n",
      "Iteration: 1\n",
      "Iteration: 2\n",
      "Breaking since: 1.0430486182677459e-17 < 0.0001\n",
      "Iteration: 1\n",
      "Iteration: 2\n",
      "Breaking since: 1.3834087521581515e-17 < 0.0001\n",
      "Iteration: 1\n",
      "Iteration: 2\n",
      "Breaking since: 2.774319096234583e-17 < 0.0001\n"
     ]
    },
    {
     "name": "stderr",
     "output_type": "stream",
     "text": [
      " 17% (17 of 100) |###                    | Elapsed Time: 0:00:01 ETA:   0:00:08"
     ]
    },
    {
     "name": "stdout",
     "output_type": "stream",
     "text": [
      "Iteration: 1\n",
      "Iteration: 2\n",
      "Breaking since: 3.4057848919476253e-18 < 0.0001\n",
      "Iteration: 1\n",
      "Iteration: 2\n",
      "Breaking since: 3.4657309367521158e-18 < 0.0001\n",
      "Iteration: 1\n",
      "Iteration: 2\n",
      "Breaking since: 0.0 < 0.0001\n"
     ]
    },
    {
     "name": "stderr",
     "output_type": "stream",
     "text": [
      " 19% (19 of 100) |####                   | Elapsed Time: 0:00:01 ETA:   0:00:08"
     ]
    },
    {
     "name": "stdout",
     "output_type": "stream",
     "text": [
      "Iteration: 1\n",
      "Iteration: 2\n",
      "Breaking since: 3.480986998220709e-18 < 0.0001\n",
      "Iteration: 1\n",
      "Iteration: 2\n",
      "Breaking since: 3.3665842280295496e-18 < 0.0001\n"
     ]
    },
    {
     "name": "stderr",
     "output_type": "stream",
     "text": [
      " 22% (22 of 100) |#####                  | Elapsed Time: 0:00:02 ETA:   0:00:07"
     ]
    },
    {
     "name": "stdout",
     "output_type": "stream",
     "text": [
      "Iteration: 1\n",
      "Iteration: 2\n",
      "Breaking since: 2.785543018773044e-17 < 0.0001\n",
      "Iteration: 1\n",
      "Iteration: 2\n",
      "Breaking since: 1.5357075511275234e-17 < 0.0001\n",
      "Iteration: 1\n",
      "Iteration: 2\n"
     ]
    },
    {
     "name": "stderr",
     "output_type": "stream",
     "text": [
      " 24% (24 of 100) |#####                  | Elapsed Time: 0:00:02 ETA:   0:00:07"
     ]
    },
    {
     "name": "stdout",
     "output_type": "stream",
     "text": [
      "Breaking since: 2.7652664064408175e-17 < 0.0001\n",
      "Iteration: 1\n",
      "Iteration: 2\n",
      "Breaking since: 1.5456900409251303e-17 < 0.0001\n"
     ]
    },
    {
     "name": "stderr",
     "output_type": "stream",
     "text": [
      "\r",
      " 25% (25 of 100) |#####                  | Elapsed Time: 0:00:02 ETA:   0:00:07"
     ]
    },
    {
     "name": "stdout",
     "output_type": "stream",
     "text": [
      "Iteration: 1\n",
      "Iteration: 2\n",
      "Breaking since: 2.6594654878634968e-17 < 0.0001\n",
      "Iteration: 1\n"
     ]
    },
    {
     "name": "stderr",
     "output_type": "stream",
     "text": [
      " 27% (27 of 100) |######                 | Elapsed Time: 0:00:02 ETA:   0:00:07"
     ]
    },
    {
     "name": "stdout",
     "output_type": "stream",
     "text": [
      "Iteration: 2\n",
      "Breaking since: 3.4595541265947108e-18 < 0.0001\n",
      "Iteration: 1\n",
      "Iteration: 2\n",
      "Breaking since: 6.92559267324782e-18 < 0.0001\n"
     ]
    },
    {
     "name": "stderr",
     "output_type": "stream",
     "text": [
      "\r",
      " 28% (28 of 100) |######                 | Elapsed Time: 0:00:03 ETA:   0:00:08"
     ]
    },
    {
     "name": "stdout",
     "output_type": "stream",
     "text": [
      "Iteration: 1\n",
      "Iteration: 2\n",
      "Breaking since: 2.796702232683366e-17 < 0.0001\n"
     ]
    },
    {
     "name": "stderr",
     "output_type": "stream",
     "text": [
      " 30% (30 of 100) |######                 | Elapsed Time: 0:00:03 ETA:   0:00:07"
     ]
    },
    {
     "name": "stdout",
     "output_type": "stream",
     "text": [
      "Iteration: 1\n",
      "Iteration: 2\n",
      "Breaking since: 7.696245860040791e-18 < 0.0001\n",
      "Iteration: 1\n",
      "Iteration: 2\n",
      "Breaking since: 1.4262860284558907e-17 < 0.0001\n",
      "Iteration: 1\n",
      "Iteration: 2\n",
      "Breaking since: 7.78897546388706e-18 < 0.0001\n"
     ]
    },
    {
     "name": "stderr",
     "output_type": "stream",
     "text": [
      " 33% (33 of 100) |#######                | Elapsed Time: 0:00:03 ETA:   0:00:07"
     ]
    },
    {
     "name": "stdout",
     "output_type": "stream",
     "text": [
      "Iteration: 1\n",
      "Iteration: 2\n",
      "Breaking since: 1.4527735648201382e-17 < 0.0001\n",
      "Iteration: 1\n",
      "Iteration: 2\n",
      "Breaking since: 1.1428418703845633e-16 < 0.0001\n"
     ]
    },
    {
     "name": "stderr",
     "output_type": "stream",
     "text": [
      " 35% (35 of 100) |########               | Elapsed Time: 0:00:03 ETA:   0:00:08"
     ]
    },
    {
     "name": "stdout",
     "output_type": "stream",
     "text": [
      "Iteration: 1\n",
      "Iteration: 2\n",
      "Breaking since: 1.3416575651500713e-17 < 0.0001\n",
      "Iteration: 1\n",
      "Iteration: 2\n",
      "Breaking since: 3.4584301060377134e-18 < 0.0001\n"
     ]
    },
    {
     "name": "stderr",
     "output_type": "stream",
     "text": [
      "\r",
      " 36% (36 of 100) |########               | Elapsed Time: 0:00:04 ETA:   0:00:08"
     ]
    },
    {
     "name": "stdout",
     "output_type": "stream",
     "text": [
      "Iteration: 1\n",
      "Iteration: 2\n",
      "Breaking since: 0.0 < 0.0001\n"
     ]
    },
    {
     "name": "stderr",
     "output_type": "stream",
     "text": [
      " 38% (38 of 100) |########               | Elapsed Time: 0:00:04 ETA:   0:00:08"
     ]
    },
    {
     "name": "stdout",
     "output_type": "stream",
     "text": [
      "Iteration: 1\n",
      "Iteration: 2\n",
      "Breaking since: 3.838879777157858e-18 < 0.0001\n",
      "Iteration: 1\n",
      "Iteration: 2\n",
      "Breaking since: 1.0114612794225069e-17 < 0.0001\n",
      "Iteration: 1\n"
     ]
    },
    {
     "name": "stderr",
     "output_type": "stream",
     "text": [
      " 41% (41 of 100) |#########              | Elapsed Time: 0:00:04 ETA:   0:00:07"
     ]
    },
    {
     "name": "stdout",
     "output_type": "stream",
     "text": [
      "Iteration: 2\n",
      "Breaking since: 1.61556748319927e-17 < 0.0001\n",
      "Iteration: 1\n",
      "Iteration: 2\n",
      "Breaking since: 8.028052600587251e-18 < 0.0001\n",
      "Iteration: 1\n",
      "Iteration: 2\n",
      "Breaking since: 4.816584668361352e-18 < 0.0001\n",
      "Iteration: 1\n"
     ]
    },
    {
     "name": "stderr",
     "output_type": "stream",
     "text": [
      " 44% (44 of 100) |##########             | Elapsed Time: 0:00:04 ETA:   0:00:06"
     ]
    },
    {
     "name": "stdout",
     "output_type": "stream",
     "text": [
      "Iteration: 2\n",
      "Breaking since: 7.65689658818722e-18 < 0.0001\n",
      "Iteration: 1\n",
      "Iteration: 2\n",
      "Breaking since: 3.4532862407355302e-18 < 0.0001\n",
      "Iteration: 1\n",
      "Iteration: 2\n",
      "Breaking since: 2.963397278506707e-17 < 0.0001\n",
      "Iteration: 1\n"
     ]
    },
    {
     "name": "stderr",
     "output_type": "stream",
     "text": [
      " 47% (47 of 100) |##########             | Elapsed Time: 0:00:04 ETA:   0:00:05"
     ]
    },
    {
     "name": "stdout",
     "output_type": "stream",
     "text": [
      "Iteration: 2\n",
      "Breaking since: 3.395564730463424e-18 < 0.0001\n",
      "Iteration: 1\n",
      "Iteration: 2\n",
      "Breaking since: 1.6893565822251364e-17 < 0.0001\n",
      "Iteration: 1\n",
      "Iteration: 2\n",
      "Breaking since: 3.3461401851628325e-17 < 0.0001\n",
      "Iteration: 1\n"
     ]
    },
    {
     "name": "stderr",
     "output_type": "stream",
     "text": [
      " 50% (50 of 100) |###########            | Elapsed Time: 0:00:05 ETA:   0:00:04"
     ]
    },
    {
     "name": "stdout",
     "output_type": "stream",
     "text": [
      "Iteration: 2\n",
      "Breaking since: 2.890549381491124e-17 < 0.0001\n",
      "Iteration: 1\n",
      "Iteration: 2\n",
      "Breaking since: 0.0 < 0.0001\n",
      "Iteration: 1\n",
      "Iteration: 2\n",
      "Breaking since: 3.4340935156787577e-17 < 0.0001\n"
     ]
    },
    {
     "name": "stderr",
     "output_type": "stream",
     "text": [
      " 52% (52 of 100) |###########            | Elapsed Time: 0:00:05 ETA:   0:00:04"
     ]
    },
    {
     "name": "stdout",
     "output_type": "stream",
     "text": [
      "Iteration: 1\n",
      "Iteration: 2\n",
      "Breaking since: 1.1874155251769075e-17 < 0.0001\n",
      "Iteration: 1\n",
      "Iteration: 2\n",
      "Breaking since: 0.0 < 0.0001\n",
      "Iteration: 1\n",
      "Iteration: 2\n",
      "Breaking since: 2.8454845055414356e-17 < 0.0001\n"
     ]
    },
    {
     "name": "stderr",
     "output_type": "stream",
     "text": [
      " 56% (56 of 100) |############           | Elapsed Time: 0:00:05 ETA:   0:00:03"
     ]
    },
    {
     "name": "stdout",
     "output_type": "stream",
     "text": [
      "Iteration: 1\n",
      "Iteration: 2\n",
      "Breaking since: 6.199483730558226e-17 < 0.0001\n",
      "Iteration: 1\n",
      "Iteration: 2\n",
      "Breaking since: 1.513975588505615e-17 < 0.0001\n",
      "Iteration: 1\n",
      "Iteration: 2\n",
      "Breaking since: 4.8760435774693345e-18 < 0.0001\n"
     ]
    },
    {
     "name": "stderr",
     "output_type": "stream",
     "text": [
      " 59% (59 of 100) |#############          | Elapsed Time: 0:00:05 ETA:   0:00:03"
     ]
    },
    {
     "name": "stdout",
     "output_type": "stream",
     "text": [
      "Iteration: 1\n",
      "Iteration: 2\n",
      "Breaking since: 7.632908855896785e-18 < 0.0001\n",
      "Iteration: 1\n",
      "Iteration: 2\n",
      "Breaking since: 3.4140225287880773e-18 < 0.0001\n",
      "Iteration: 1\n",
      "Iteration: 2\n",
      "Breaking since: 1.0900160582812462e-17 < 0.0001\n"
     ]
    },
    {
     "name": "stderr",
     "output_type": "stream",
     "text": [
      " 61% (61 of 100) |##############         | Elapsed Time: 0:00:06 ETA:   0:00:03"
     ]
    },
    {
     "name": "stdout",
     "output_type": "stream",
     "text": [
      "Iteration: 1\n",
      "Iteration: 2\n",
      "Breaking since: 2.7801419841644167e-17 < 0.0001\n",
      "Iteration: 1\n",
      "Iteration: 2\n",
      "Breaking since: 1.9637423467868882e-17 < 0.0001\n",
      "Iteration: 1\n",
      "Iteration: 2\n",
      "Breaking since: 7.704178661759557e-18 < 0.0001\n"
     ]
    },
    {
     "name": "stderr",
     "output_type": "stream",
     "text": [
      " 65% (65 of 100) |##############         | Elapsed Time: 0:00:06 ETA:   0:00:02"
     ]
    },
    {
     "name": "stdout",
     "output_type": "stream",
     "text": [
      "Iteration: 1\n",
      "Iteration: 2\n",
      "Breaking since: 2.204814819847903e-17 < 0.0001\n",
      "Iteration: 1\n",
      "Iteration: 2\n",
      "Breaking since: 3.0487648360318327e-18 < 0.0001\n",
      "Iteration: 1\n",
      "Iteration: 2\n",
      "Breaking since: 3.400897366116749e-18 < 0.0001\n",
      "Iteration: 1\n"
     ]
    },
    {
     "name": "stderr",
     "output_type": "stream",
     "text": [
      " 68% (68 of 100) |###############        | Elapsed Time: 0:00:06 ETA:   0:00:02"
     ]
    },
    {
     "name": "stdout",
     "output_type": "stream",
     "text": [
      "Iteration: 2\n",
      "Breaking since: 1.3880483948219335e-17 < 0.0001\n",
      "Iteration: 1\n",
      "Iteration: 2\n",
      "Breaking since: 2.7678873678972234e-17 < 0.0001\n",
      "Iteration: 1\n",
      "Iteration: 2\n",
      "Breaking since: 1.0375352719167247e-17 < 0.0001\n",
      "Iteration: 1\n",
      "Iteration: 2\n"
     ]
    },
    {
     "name": "stderr",
     "output_type": "stream",
     "text": [
      " 71% (71 of 100) |################       | Elapsed Time: 0:00:06 ETA:   0:00:02"
     ]
    },
    {
     "name": "stdout",
     "output_type": "stream",
     "text": [
      "Breaking since: 8.330183420757298e-18 < 0.0001\n",
      "Iteration: 1\n",
      "Iteration: 2\n",
      "Breaking since: 2.8377248716913615e-17 < 0.0001\n",
      "Iteration: 1\n",
      "Iteration: 2\n",
      "Breaking since: 4.4859603701450216e-17 < 0.0001\n",
      "Iteration: 1\n",
      "Iteration: 2\n",
      "Breaking since: 1.380940450287482e-17 < 0.0001\n"
     ]
    },
    {
     "name": "stderr",
     "output_type": "stream",
     "text": [
      " 75% (75 of 100) |#################      | Elapsed Time: 0:00:06 ETA:   0:00:01"
     ]
    },
    {
     "name": "stdout",
     "output_type": "stream",
     "text": [
      "Iteration: 1\n",
      "Iteration: 2\n",
      "Breaking since: 3.099906581453139e-17 < 0.0001\n",
      "Iteration: 1\n",
      "Iteration: 2\n",
      "Breaking since: 2.949180792765341e-17 < 0.0001\n",
      "Iteration: 1\n",
      "Iteration: 2\n",
      "Breaking since: 0.0 < 0.0001\n"
     ]
    },
    {
     "name": "stderr",
     "output_type": "stream",
     "text": [
      " 78% (78 of 100) |#################      | Elapsed Time: 0:00:07 ETA:   0:00:01"
     ]
    },
    {
     "name": "stdout",
     "output_type": "stream",
     "text": [
      "Iteration: 1\n",
      "Iteration: 2\n",
      "Breaking since: 5.885239011037001e-18 < 0.0001\n",
      "Iteration: 1\n",
      "Iteration: 2\n",
      "Breaking since: 9.786623761519606e-19 < 0.0001\n",
      "Iteration: 1\n",
      "Iteration: 2\n",
      "Breaking since: 0.0 < 0.0001\n"
     ]
    },
    {
     "name": "stderr",
     "output_type": "stream",
     "text": [
      " 80% (80 of 100) |##################     | Elapsed Time: 0:00:07 ETA:   0:00:01"
     ]
    },
    {
     "name": "stdout",
     "output_type": "stream",
     "text": [
      "Iteration: 1\n",
      "Iteration: 2\n",
      "Breaking since: 6.9205348208742365e-18 < 0.0001\n",
      "Iteration: 1\n",
      "Iteration: 2\n",
      "Breaking since: 6.841811508466332e-18 < 0.0001\n",
      "Iteration: 1\n",
      "Iteration: 2\n",
      "Breaking since: 0.0 < 0.0001\n"
     ]
    },
    {
     "name": "stderr",
     "output_type": "stream",
     "text": [
      " 84% (84 of 100) |###################    | Elapsed Time: 0:00:07 ETA:   0:00:01"
     ]
    },
    {
     "name": "stdout",
     "output_type": "stream",
     "text": [
      "Iteration: 1\n",
      "Iteration: 2\n",
      "Breaking since: 3.4593653109022697e-18 < 0.0001\n",
      "Iteration: 1\n",
      "Iteration: 2\n",
      "Breaking since: 1.440310018415466e-17 < 0.0001\n",
      "Iteration: 1\n",
      "Iteration: 2\n",
      "Breaking since: 0.0 < 0.0001\n"
     ]
    },
    {
     "name": "stderr",
     "output_type": "stream",
     "text": [
      " 87% (87 of 100) |####################   | Elapsed Time: 0:00:07 ETA:   0:00:00"
     ]
    },
    {
     "name": "stdout",
     "output_type": "stream",
     "text": [
      "Iteration: 1\n",
      "Iteration: 2\n",
      "Breaking since: 1.6685690234589861e-16 < 0.0001\n",
      "Iteration: 1\n",
      "Iteration: 2\n",
      "Breaking since: 6.800307866817683e-18 < 0.0001\n",
      "Iteration: 1\n",
      "Iteration: 2\n",
      "Breaking since: 2.539416591698264e-17 < 0.0001\n"
     ]
    },
    {
     "name": "stderr",
     "output_type": "stream",
     "text": [
      " 90% (90 of 100) |####################   | Elapsed Time: 0:00:08 ETA:   0:00:00"
     ]
    },
    {
     "name": "stdout",
     "output_type": "stream",
     "text": [
      "Iteration: 1\n",
      "Iteration: 2\n",
      "Breaking since: 1.1453176615760249e-17 < 0.0001\n",
      "Iteration: 1\n",
      "Iteration: 2\n",
      "Breaking since: 0.0 < 0.0001\n",
      "Iteration: 1\n",
      "Iteration: 2\n",
      "Breaking since: 1.3734818093864996e-17 < 0.0001\n"
     ]
    },
    {
     "name": "stderr",
     "output_type": "stream",
     "text": [
      " 92% (92 of 100) |#####################  | Elapsed Time: 0:00:08 ETA:   0:00:00"
     ]
    },
    {
     "name": "stdout",
     "output_type": "stream",
     "text": [
      "Iteration: 1\n",
      "Iteration: 2\n",
      "Breaking since: 1.4001555173104793e-17 < 0.0001\n",
      "Iteration: 1\n",
      "Iteration: 2\n",
      "Breaking since: 0.0 < 0.0001\n"
     ]
    },
    {
     "name": "stderr",
     "output_type": "stream",
     "text": [
      " 95% (95 of 100) |#####################  | Elapsed Time: 0:00:08 ETA:   0:00:00"
     ]
    },
    {
     "name": "stdout",
     "output_type": "stream",
     "text": [
      "Iteration: 1\n",
      "Iteration: 2\n",
      "Breaking since: 7.741790014891255e-18 < 0.0001\n",
      "Iteration: 1\n",
      "Iteration: 2\n",
      "Breaking since: 6.137724483620069e-17 < 0.0001\n",
      "Iteration: 1\n",
      "Iteration: 2\n",
      "Breaking since: 0.0 < 0.0001\n"
     ]
    },
    {
     "name": "stderr",
     "output_type": "stream",
     "text": [
      " 97% (97 of 100) |###################### | Elapsed Time: 0:00:08 ETA:   0:00:00"
     ]
    },
    {
     "name": "stdout",
     "output_type": "stream",
     "text": [
      "Iteration: 1\n",
      "Iteration: 2\n",
      "Breaking since: 5.5251751740239455e-17 < 0.0001\n",
      "Iteration: 1\n",
      "Iteration: 2\n",
      "Breaking since: 3.0528582094239745e-17 < 0.0001\n",
      "Iteration: 1\n",
      "Iteration: 2\n"
     ]
    },
    {
     "name": "stderr",
     "output_type": "stream",
     "text": [
      "100% (100 of 100) |######################| Elapsed Time: 0:00:08 Time:  0:00:08\n"
     ]
    },
    {
     "name": "stdout",
     "output_type": "stream",
     "text": [
      "Breaking since: 0.0 < 0.0001\n",
      "Iteration: 1\n",
      "Iteration: 2\n",
      "Breaking since: 0.0 < 0.0001\n",
      "Iteration: 1\n",
      "Iteration: 2\n",
      "Breaking since: 0.0 < 0.0001\n",
      "LinearGAM                                                                                                 \n",
      "=============================================== ==========================================================\n",
      "Distribution:                        NormalDist Effective DoF:                                     15.5686\n",
      "Link Function:                     IdentityLink Log Likelihood:                                -24116.2161\n",
      "Number of Samples:                         3000 AIC:                                            48265.5695\n",
      "                                                AICc:                                           48265.7647\n",
      "                                                GCV:                                             1247.3519\n",
      "                                                Scale:                                           1235.7056\n",
      "                                                Pseudo R-Squared:                                   0.2938\n",
      "==========================================================================================================\n",
      "Feature Function                  Lambda               Rank         EDoF         P > x        Sig. Code   \n",
      "================================= ==================== ============ ============ ============ ============\n",
      "s(0)                              [47.996]             20           6.7          7.45e-03     **          \n",
      "s(1)                              [199.348]            20           4.9          1.11e-16     ***         \n",
      "f(2)                              [0.0091]             5            4.0          1.11e-16     ***         \n",
      "intercept                                              1            0.0          1.11e-16     ***         \n",
      "==========================================================================================================\n",
      "Significance codes:  0 '***' 0.001 '**' 0.01 '*' 0.05 '.' 0.1 ' ' 1\n",
      "\n",
      "WARNING: Fitting splines and a linear function to a feature introduces a model identifiability problem\n",
      "         which can cause p-values to appear significant when they are not.\n",
      "\n",
      "WARNING: p-values calculated in this manner behave correctly for un-penalized models or models with\n",
      "         known smoothing parameters, but when smoothing parameters have been estimated, the p-values\n",
      "         are typically lower than they should be, meaning that the tests reject the null too readily.\n"
     ]
    },
    {
     "name": "stderr",
     "output_type": "stream",
     "text": [
      "/tmp/ipykernel_121679/2655552411.py:2: UserWarning: KNOWN BUG: p-values computed in this summary are likely much smaller than they should be. \n",
      " \n",
      "Please do not make inferences based on these values! \n",
      "\n",
      "Collaborate on a solution, and stay up to date at: \n",
      "github.com/dswah/pyGAM/issues/163 \n",
      "\n",
      "  random_gam.summary()\n"
     ]
    }
   ],
   "source": [
    "random_gam =  LinearGAM(s(0) + s(1) + f(2)).gridsearch(X, y, lam=lams)\n",
    "random_gam.summary()"
   ]
  },
  {
   "cell_type": "markdown",
   "metadata": {},
   "source": [
    "In this case, our deterministic search found a better model:"
   ]
  },
  {
   "cell_type": "code",
   "execution_count": 10,
   "metadata": {},
   "outputs": [
    {
     "data": {
      "text/plain": [
       "True"
      ]
     },
     "execution_count": 10,
     "metadata": {},
     "output_type": "execute_result"
    }
   ],
   "source": [
    "gam.statistics_['GCV'] < random_gam.statistics_['GCV']"
   ]
  },
  {
   "cell_type": "markdown",
   "metadata": {},
   "source": [
    "The `statistics_` attribute is populated after the model has been fitted.\n",
    "There are lots of interesting model statistics to check out, although many are automatically reported in the model summary:"
   ]
  },
  {
   "cell_type": "code",
   "execution_count": 11,
   "metadata": {},
   "outputs": [
    {
     "data": {
      "text/plain": [
       "['n_samples',\n",
       " 'm_features',\n",
       " 'edof_per_coef',\n",
       " 'edof',\n",
       " 'scale',\n",
       " 'cov',\n",
       " 'se',\n",
       " 'AIC',\n",
       " 'AICc',\n",
       " 'pseudo_r2',\n",
       " 'GCV',\n",
       " 'UBRE',\n",
       " 'loglikelihood',\n",
       " 'deviance',\n",
       " 'p_values']"
      ]
     },
     "execution_count": 11,
     "metadata": {},
     "output_type": "execute_result"
    }
   ],
   "source": [
    "list(gam.statistics_.keys())"
   ]
  },
  {
   "cell_type": "markdown",
   "metadata": {},
   "source": [
    "## Partial Dependence Functions"
   ]
  },
  {
   "cell_type": "markdown",
   "metadata": {},
   "source": [
    "One of the most attractive properties of GAMs is that we can decompose and inspect the contribution of each feature to the overall prediction. \n",
    "\n",
    "This is done via **partial dependence** functions.\n",
    "\n",
    "Let's plot the partial dependence for each term in our model, along with a 95% confidence interval for the estimated function."
   ]
  },
  {
   "cell_type": "code",
   "execution_count": 12,
   "metadata": {},
   "outputs": [],
   "source": [
    "import matplotlib.pyplot as plt"
   ]
  },
  {
   "cell_type": "code",
   "execution_count": 13,
   "metadata": {
    "scrolled": false
   },
   "outputs": [
    {
     "data": {
      "image/png": "[encoded data removed]",
      "text/plain": [
       "<Figure size 640x480 with 1 Axes>"
      ]
     },
     "metadata": {},
     "output_type": "display_data"
    },
    {
     "data": {
      "image/png": "[encoded data removed]",
      "text/plain": [
       "<Figure size 640x480 with 1 Axes>"
      ]
     },
     "metadata": {},
     "output_type": "display_data"
    },
    {
     "data": {
      "image/png": "[encoded data removed]",
      "text/plain": [
       "<Figure size 640x480 with 1 Axes>"
      ]
     },
     "metadata": {},
     "output_type": "display_data"
    }
   ],
   "source": [
    "for i, term in enumerate(gam.terms):\n",
    "    if term.isintercept:\n",
    "        continue\n",
    "        \n",
    "    XX = gam.generate_X_grid(term=i)\n",
    "    pdep, confi = gam.partial_dependence(term=i, X=XX, width=0.95)\n",
    "    \n",
    "    plt.figure()\n",
    "    plt.plot(XX[:, term.feature], pdep)\n",
    "    plt.plot(XX[:, term.feature], confi, c='r', ls='--')\n",
    "    plt.title(repr(term))\n",
    "    plt.show()"
   ]
  },
  {
   "cell_type": "markdown",
   "metadata": {},
   "source": [
    "Note: we skip the intercept term because it has nothing interesting to plot."
   ]
  }
 ],
 "metadata": {
  "kernelspec": {
   "display_name": "Python 3 (ipykernel)",
   "language": "python",
   "name": "python3"
  },
  "language_info": {
   "codemirror_mode": {
    "name": "ipython",
    "version": 3
   },
   "file_extension": ".py",
   "mimetype": "text/x-python",
   "name": "python",
   "nbconvert_exporter": "python",
   "pygments_lexer": "ipython3",
   "version": "3.9.15"
  }
 },
 "nbformat": 4,
 "nbformat_minor": 2
}
